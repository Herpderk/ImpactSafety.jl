{
 "cells": [
  {
   "cell_type": "code",
   "execution_count": null,
   "id": "6679865f",
   "metadata": {},
   "outputs": [],
   "source": [
    "using MuJoCo"
   ]
  },
  {
   "cell_type": "code",
   "execution_count": null,
   "id": "a1473939",
   "metadata": {},
   "outputs": [],
   "source": [
    "function random_controller!(m::Model, d::Data)\n",
    "    nu = m.nu\n",
    "    d.ctrl .= 2*rand(nu) .- 1\n",
    "    return nothing\n",
    "end"
   ]
  },
  {
   "cell_type": "code",
   "execution_count": null,
   "id": "4abe6d66",
   "metadata": {},
   "outputs": [],
   "source": [
    "Δt = 1e-3\n",
    "N = 10000\n",
    "model, data = MuJoCo.sample_model_and_data()\n",
    "model.opt.timestep = Δt\n",
    "\n",
    "# State history\n",
    "xhist = zeros(model.nq + model.nv + model.na, N)\n",
    "\n",
    "# Initial conditions\n",
    "data.qpos[3] = 2\n",
    "forward!(model, data)\n",
    "\n",
    "for k = 1:N\n",
    "    xhist[:,k] .= get_physics_state(model, data)\n",
    "    random_controller!(model, data)\n",
    "    step!(model, data)\n",
    "end"
   ]
  },
  {
   "cell_type": "code",
   "execution_count": null,
   "id": "d1abb012",
   "metadata": {},
   "outputs": [],
   "source": [
    "init_visualiser()\n",
    "visualise!(model, data, trajectories=[xhist])"
   ]
  }
 ],
 "metadata": {
  "kernelspec": {
   "display_name": "Julia 1.10.9",
   "language": "julia",
   "name": "julia-1.10"
  },
  "language_info": {
   "file_extension": ".jl",
   "mimetype": "application/julia",
   "name": "julia",
   "version": "1.10.9"
  }
 },
 "nbformat": 4,
 "nbformat_minor": 5
}
